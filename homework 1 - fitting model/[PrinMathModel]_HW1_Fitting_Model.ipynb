{
  "nbformat": 4,
  "nbformat_minor": 0,
  "metadata": {
    "colab": {
      "name": "[PrinMathModel] HW1 - Fitting Model.ipynb",
      "provenance": []
    },
    "kernelspec": {
      "name": "python3",
      "display_name": "Python 3"
    },
    "language_info": {
      "name": "python"
    }
  },
  "cells": [
    {
      "cell_type": "code",
      "metadata": {
        "id": "ri9JDULGY11f"
      },
      "source": [
        "import numpy as np\n",
        "import matplotlib.pyplot as plt"
      ],
      "execution_count": null,
      "outputs": []
    },
    {
      "cell_type": "code",
      "metadata": {
        "id": "amUW0jYnZR4G"
      },
      "source": [
        "x = np.array([0.2, 0.37, 0.72, 0.97, 1.34, 1.89, 2.15, 2.67])\n",
        "y = np.array([0.02, 0.48, 1.80, 3.26, 6.23, 12.40, 16.04, 24.74])"
      ],
      "execution_count": null,
      "outputs": []
    },
    {
      "cell_type": "code",
      "metadata": {
        "colab": {
          "base_uri": "https://localhost:8080/",
          "height": 334
        },
        "id": "Cr1_q_r6ZgIZ",
        "outputId": "12d1f983-6d99-4be0-af1e-a6e0d867fa50"
      },
      "source": [
        "fig = plt.figure(figsize=(5, 5))\n",
        "plt.scatter(x, y)\n",
        "plt.xlabel(\"x\")\n",
        "plt.ylabel(\"y\")\n",
        "plt.show()"
      ],
      "execution_count": null,
      "outputs": [
        {
          "output_type": "display_data",
          "data": {
            "image/png": "[encoded data removed]",
            "text/plain": [
              "<Figure size 360x360 with 1 Axes>"
            ]
          },
          "metadata": {
            "needs_background": "light"
          }
        }
      ]
    },
    {
      "cell_type": "markdown",
      "metadata": {
        "id": "F9G_zg-_Bemu"
      },
      "source": [
        "# Straight line"
      ]
    },
    {
      "cell_type": "code",
      "metadata": {
        "id": "8QnuVh9XZ2bO",
        "colab": {
          "base_uri": "https://localhost:8080/"
        },
        "outputId": "114e1a4c-dc79-4ff9-f066-f37348037883"
      },
      "source": [
        "# Find a\n",
        "m = len(x)\n",
        "sum_yx = np.sum(x*y)\n",
        "sum_x_sum_y = np.sum(x)*np.sum(y)\n",
        "sum_xx = np.sum(x**2)\n",
        "sum_x2 = np.sum(x)**2\n",
        "\n",
        "# Find b\n",
        "sum_x2y = np.sum(x**2)*np.sum(y)\n",
        "sum_x_sum_yx = np.sum(x)*np.sum(y*x)\n",
        "\n",
        "a = ((m*sum_yx)-sum_x_sum_y)/((m*sum_xx)-sum_x2)\n",
        "b = ((sum_x2y)-sum_x_sum_yx)/((m*sum_xx)-sum_x2)\n",
        "\n",
        "print(\"a = %0.3f, and b = %0.3f\" %(a, b))"
      ],
      "execution_count": null,
      "outputs": [
        {
          "output_type": "stream",
          "name": "stdout",
          "text": [
            "a = 9.735, and b = -4.425\n"
          ]
        }
      ]
    },
    {
      "cell_type": "code",
      "metadata": {
        "id": "IMcPJT3C7cYj"
      },
      "source": [
        "y_pred = a*(x)+b"
      ],
      "execution_count": null,
      "outputs": []
    },
    {
      "cell_type": "code",
      "metadata": {
        "colab": {
          "base_uri": "https://localhost:8080/",
          "height": 334
        },
        "id": "ofPTOVLZ8VTZ",
        "outputId": "10f5cf6b-b129-48c5-a6cb-016852fa6a73"
      },
      "source": [
        "fig = plt.figure(figsize=(5, 5))\n",
        "plt.scatter(x, y)\n",
        "plt.plot(x, y_pred, c = \"red\")\n",
        "plt.xlabel(\"x\")\n",
        "plt.ylabel(\"y\")\n",
        "plt.show()"
      ],
      "execution_count": null,
      "outputs": [
        {
          "output_type": "display_data",
          "data": {
            "image/png": "[encoded data removed]",
            "text/plain": [
              "<Figure size 360x360 with 1 Axes>"
            ]
          },
          "metadata": {
            "needs_background": "light"
          }
        }
      ]
    },
    {
      "cell_type": "code",
      "metadata": {
        "id": "6efmWN5c8aUK"
      },
      "source": [
        "import pandas as pd"
      ],
      "execution_count": null,
      "outputs": []
    },
    {
      "cell_type": "code",
      "metadata": {
        "colab": {
          "base_uri": "https://localhost:8080/",
          "height": 335
        },
        "id": "CmPyLtJK81Cn",
        "outputId": "62aa2a31-a2d6-4293-bca3-a5ea1b79156e"
      },
      "source": [
        "df = pd.DataFrame({\"x\":x, \n",
        "                   \"y\":y, \n",
        "                   \"y_pred\":y_pred, \n",
        "                   \"SSE\": (y-y_pred)**2,\n",
        "                   \"SSR\":(np.mean(y)-y_pred)**2,\n",
        "                   \"SST\": (y-np.mean(y))**2})\n",
        "\n",
        "print(np.sum((np.mean(y)-y_pred)**2), np.sum((y-np.mean(y))**2))\n",
        "print(\"R-square = %0.3f\"%(np.sum((np.mean(y)-y_pred)**2)/np.sum((y-np.mean(y))**2)))\n",
        "df"
      ],
      "execution_count": null,
      "outputs": [
        {
          "output_type": "stream",
          "name": "stdout",
          "text": [
            "518.2684863191007 548.3828874999999\n",
            "R-square = 0.945\n"
          ]
        },
        {
          "output_type": "execute_result",
          "data": {
            "text/html": [
              "<div>\n",
              "<style scoped>\n",
              "    .dataframe tbody tr th:only-of-type {\n",
              "        vertical-align: middle;\n",
              "    }\n",
              "\n",
              "    .dataframe tbody tr th {\n",
              "        vertical-align: top;\n",
              "    }\n",
              "\n",
              "    .dataframe thead th {\n",
              "        text-align: right;\n",
              "    }\n",
              "</style>\n",
              "<table border=\"1\" class=\"dataframe\">\n",
              "  <thead>\n",
              "    <tr style=\"text-align: right;\">\n",
              "      <th></th>\n",
              "      <th>x</th>\n",
              "      <th>y</th>\n",
              "      <th>y_pred</th>\n",
              "      <th>SSE</th>\n",
              "      <th>SSR</th>\n",
              "      <th>SST</th>\n",
              "    </tr>\n",
              "  </thead>\n",
              "  <tbody>\n",
              "    <tr>\n",
              "      <th>0</th>\n",
              "      <td>0.20</td>\n",
              "      <td>0.02</td>\n",
              "      <td>-2.478116</td>\n",
              "      <td>6.240585</td>\n",
              "      <td>112.346565</td>\n",
              "      <td>65.630252</td>\n",
              "    </tr>\n",
              "    <tr>\n",
              "      <th>1</th>\n",
              "      <td>0.37</td>\n",
              "      <td>0.48</td>\n",
              "      <td>-0.823106</td>\n",
              "      <td>1.698086</td>\n",
              "      <td>80.001507</td>\n",
              "      <td>58.388702</td>\n",
              "    </tr>\n",
              "    <tr>\n",
              "      <th>2</th>\n",
              "      <td>0.72</td>\n",
              "      <td>1.80</td>\n",
              "      <td>2.584268</td>\n",
              "      <td>0.615076</td>\n",
              "      <td>30.658174</td>\n",
              "      <td>39.958202</td>\n",
              "    </tr>\n",
              "    <tr>\n",
              "      <th>3</th>\n",
              "      <td>0.97</td>\n",
              "      <td>3.26</td>\n",
              "      <td>5.018106</td>\n",
              "      <td>3.090937</td>\n",
              "      <td>9.629502</td>\n",
              "      <td>23.631752</td>\n",
              "    </tr>\n",
              "    <tr>\n",
              "      <th>4</th>\n",
              "      <td>1.34</td>\n",
              "      <td>6.23</td>\n",
              "      <td>8.620187</td>\n",
              "      <td>5.712993</td>\n",
              "      <td>0.248938</td>\n",
              "      <td>3.576827</td>\n",
              "    </tr>\n",
              "    <tr>\n",
              "      <th>5</th>\n",
              "      <td>1.89</td>\n",
              "      <td>12.40</td>\n",
              "      <td>13.974631</td>\n",
              "      <td>2.479464</td>\n",
              "      <td>34.262073</td>\n",
              "      <td>18.307702</td>\n",
              "    </tr>\n",
              "    <tr>\n",
              "      <th>6</th>\n",
              "      <td>2.15</td>\n",
              "      <td>16.04</td>\n",
              "      <td>16.505823</td>\n",
              "      <td>0.216991</td>\n",
              "      <td>70.301069</td>\n",
              "      <td>62.706602</td>\n",
              "    </tr>\n",
              "    <tr>\n",
              "      <th>7</th>\n",
              "      <td>2.67</td>\n",
              "      <td>24.74</td>\n",
              "      <td>21.568207</td>\n",
              "      <td>10.060270</td>\n",
              "      <td>180.820658</td>\n",
              "      <td>276.182852</td>\n",
              "    </tr>\n",
              "  </tbody>\n",
              "</table>\n",
              "</div>"
            ],
            "text/plain": [
              "      x      y     y_pred        SSE         SSR         SST\n",
              "0  0.20   0.02  -2.478116   6.240585  112.346565   65.630252\n",
              "1  0.37   0.48  -0.823106   1.698086   80.001507   58.388702\n",
              "2  0.72   1.80   2.584268   0.615076   30.658174   39.958202\n",
              "3  0.97   3.26   5.018106   3.090937    9.629502   23.631752\n",
              "4  1.34   6.23   8.620187   5.712993    0.248938    3.576827\n",
              "5  1.89  12.40  13.974631   2.479464   34.262073   18.307702\n",
              "6  2.15  16.04  16.505823   0.216991   70.301069   62.706602\n",
              "7  2.67  24.74  21.568207  10.060270  180.820658  276.182852"
            ]
          },
          "metadata": {},
          "execution_count": 24
        }
      ]
    },
    {
      "cell_type": "code",
      "metadata": {
        "colab": {
          "base_uri": "https://localhost:8080/"
        },
        "id": "XOhInct09CEQ",
        "outputId": "c8f68a17-c8d9-45c4-f9cc-b0d35a20d02f"
      },
      "source": [
        "np.sum(df, axis=0)"
      ],
      "execution_count": null,
      "outputs": [
        {
          "output_type": "execute_result",
          "data": {
            "text/plain": [
              "x          10.310000\n",
              "y          64.970000\n",
              "y_pred     64.970000\n",
              "SSE        30.114401\n",
              "SSR       518.268486\n",
              "SST       548.382887\n",
              "dtype: float64"
            ]
          },
          "metadata": {},
          "execution_count": 27
        }
      ]
    },
    {
      "cell_type": "markdown",
      "metadata": {
        "id": "Jdwa6wMEBykY"
      },
      "source": [
        "# Power curve"
      ]
    },
    {
      "cell_type": "code",
      "metadata": {
        "id": "fYxtx6gP_6K7"
      },
      "source": [
        "def a_power(n): \n",
        "  sum_yxn = np.sum(y*(x**n))\n",
        "  sum_xn = np.sum(x**(2*n))\n",
        "  a = sum_yxn/sum_xn\n",
        "  return a"
      ],
      "execution_count": null,
      "outputs": []
    },
    {
      "cell_type": "code",
      "metadata": {
        "id": "nZ0DNGBrB_eU"
      },
      "source": [
        "y_pred_power1_x2 = a_power(1)*(x**2)\n",
        "y_pred_power2_x2 = a_power(2)*(x**2)\n",
        "y_pred_power3_x2 = a_power(3)*(x**2)"
      ],
      "execution_count": null,
      "outputs": []
    },
    {
      "cell_type": "code",
      "metadata": {
        "colab": {
          "base_uri": "https://localhost:8080/"
        },
        "id": "_z6PVGPgDmkC",
        "outputId": "4a0bf62c-f4ee-4ef2-8110-5c1bc343d105"
      },
      "source": [
        "print(a_power(2))"
      ],
      "execution_count": null,
      "outputs": [
        {
          "output_type": "stream",
          "name": "stdout",
          "text": [
            "3.470299868822228\n"
          ]
        }
      ]
    },
    {
      "cell_type": "code",
      "metadata": {
        "colab": {
          "base_uri": "https://localhost:8080/",
          "height": 334
        },
        "id": "VJLnhpFaCbqS",
        "outputId": "110cdb14-513d-4d7b-f890-2181dc5e1222"
      },
      "source": [
        "fig = plt.figure(figsize=(5, 5))\n",
        "plt.scatter(x, y)\n",
        "plt.plot(x, y_pred_power1_x2, c = \"red\", label = \"a(n=1)x**2\")\n",
        "plt.plot(x, y_pred_power2_x2, c = \"green\", label = \"a(n=2)x**2\")\n",
        "plt.plot(x, y_pred_power3_x2, c = \"blue\", label = \"a(n=3)x**2\")\n",
        "plt.xlabel(\"x\")\n",
        "plt.ylabel(\"y\")\n",
        "plt.legend()\n",
        "plt.show()"
      ],
      "execution_count": null,
      "outputs": [
        {
          "output_type": "display_data",
          "data": {
            "image/png": "[encoded data removed]",
            "text/plain": [
              "<Figure size 360x360 with 1 Axes>"
            ]
          },
          "metadata": {
            "needs_background": "light"
          }
        }
      ]
    },
    {
      "cell_type": "code",
      "metadata": {
        "colab": {
          "base_uri": "https://localhost:8080/",
          "height": 335
        },
        "id": "3U_lgnfICekt",
        "outputId": "54af119f-7754-46da-d237-c5c1e0768853"
      },
      "source": [
        "df_power = pd.DataFrame({\"x\":x, \n",
        "                        \"y\":y, \n",
        "                        \"y_pred\":y_pred_power2_x2, \n",
        "                        \"SSE\": (y-y_pred_power2_x2)**2,\n",
        "                        \"SSR\":(np.mean(y)-y_pred_power2_x2)**2,\n",
        "                        \"SST\": (y-np.mean(y))**2})\n",
        "\n",
        "print(np.sum((np.mean(y)-y_pred_power2_x2)**2), np.sum((y-np.mean(y))**2))\n",
        "print(\"R-square = %0.3f\"%(np.sum((np.mean(y)-y_pred_power2_x2)**2)/np.sum((y-np.mean(y))**2)))\n",
        "df_power"
      ],
      "execution_count": null,
      "outputs": [
        {
          "output_type": "stream",
          "name": "stdout",
          "text": [
            "546.4762038763239 548.3828874999999\n",
            "R-square = 0.997\n"
          ]
        },
        {
          "output_type": "execute_result",
          "data": {
            "text/html": [
              "<div>\n",
              "<style scoped>\n",
              "    .dataframe tbody tr th:only-of-type {\n",
              "        vertical-align: middle;\n",
              "    }\n",
              "\n",
              "    .dataframe tbody tr th {\n",
              "        vertical-align: top;\n",
              "    }\n",
              "\n",
              "    .dataframe thead th {\n",
              "        text-align: right;\n",
              "    }\n",
              "</style>\n",
              "<table border=\"1\" class=\"dataframe\">\n",
              "  <thead>\n",
              "    <tr style=\"text-align: right;\">\n",
              "      <th></th>\n",
              "      <th>x</th>\n",
              "      <th>y</th>\n",
              "      <th>y_pred</th>\n",
              "      <th>SSE</th>\n",
              "      <th>SSR</th>\n",
              "      <th>SST</th>\n",
              "    </tr>\n",
              "  </thead>\n",
              "  <tbody>\n",
              "    <tr>\n",
              "      <th>0</th>\n",
              "      <td>0.20</td>\n",
              "      <td>0.02</td>\n",
              "      <td>0.138812</td>\n",
              "      <td>1.411629e-02</td>\n",
              "      <td>63.719317</td>\n",
              "      <td>65.630252</td>\n",
              "    </tr>\n",
              "    <tr>\n",
              "      <th>1</th>\n",
              "      <td>0.37</td>\n",
              "      <td>0.48</td>\n",
              "      <td>0.475084</td>\n",
              "      <td>2.416654e-05</td>\n",
              "      <td>58.463854</td>\n",
              "      <td>58.388702</td>\n",
              "    </tr>\n",
              "    <tr>\n",
              "      <th>2</th>\n",
              "      <td>0.72</td>\n",
              "      <td>1.80</td>\n",
              "      <td>1.799003</td>\n",
              "      <td>9.931079e-07</td>\n",
              "      <td>39.970801</td>\n",
              "      <td>39.958202</td>\n",
              "    </tr>\n",
              "    <tr>\n",
              "      <th>3</th>\n",
              "      <td>0.97</td>\n",
              "      <td>3.26</td>\n",
              "      <td>3.265205</td>\n",
              "      <td>2.709355e-05</td>\n",
              "      <td>23.581172</td>\n",
              "      <td>23.631752</td>\n",
              "    </tr>\n",
              "    <tr>\n",
              "      <th>4</th>\n",
              "      <td>1.34</td>\n",
              "      <td>6.23</td>\n",
              "      <td>6.231270</td>\n",
              "      <td>1.614029e-06</td>\n",
              "      <td>3.572023</td>\n",
              "      <td>3.576827</td>\n",
              "    </tr>\n",
              "    <tr>\n",
              "      <th>5</th>\n",
              "      <td>1.89</td>\n",
              "      <td>12.40</td>\n",
              "      <td>12.396258</td>\n",
              "      <td>1.400136e-05</td>\n",
              "      <td>18.275695</td>\n",
              "      <td>18.307702</td>\n",
              "    </tr>\n",
              "    <tr>\n",
              "      <th>6</th>\n",
              "      <td>2.15</td>\n",
              "      <td>16.04</td>\n",
              "      <td>16.041461</td>\n",
              "      <td>2.134941e-06</td>\n",
              "      <td>62.729745</td>\n",
              "      <td>62.706602</td>\n",
              "    </tr>\n",
              "    <tr>\n",
              "      <th>7</th>\n",
              "      <td>2.67</td>\n",
              "      <td>24.74</td>\n",
              "      <td>24.739421</td>\n",
              "      <td>3.355481e-07</td>\n",
              "      <td>276.163599</td>\n",
              "      <td>276.182852</td>\n",
              "    </tr>\n",
              "  </tbody>\n",
              "</table>\n",
              "</div>"
            ],
            "text/plain": [
              "      x      y     y_pred           SSE         SSR         SST\n",
              "0  0.20   0.02   0.138812  1.411629e-02   63.719317   65.630252\n",
              "1  0.37   0.48   0.475084  2.416654e-05   58.463854   58.388702\n",
              "2  0.72   1.80   1.799003  9.931079e-07   39.970801   39.958202\n",
              "3  0.97   3.26   3.265205  2.709355e-05   23.581172   23.631752\n",
              "4  1.34   6.23   6.231270  1.614029e-06    3.572023    3.576827\n",
              "5  1.89  12.40  12.396258  1.400136e-05   18.275695   18.307702\n",
              "6  2.15  16.04  16.041461  2.134941e-06   62.729745   62.706602\n",
              "7  2.67  24.74  24.739421  3.355481e-07  276.163599  276.182852"
            ]
          },
          "metadata": {},
          "execution_count": 43
        }
      ]
    },
    {
      "cell_type": "code",
      "metadata": {
        "colab": {
          "base_uri": "https://localhost:8080/"
        },
        "id": "o3_-NfqbD8qc",
        "outputId": "b76a7208-23c8-42af-c218-3abb9baecc41"
      },
      "source": [
        "np.sum(df_power, axis=0)"
      ],
      "execution_count": null,
      "outputs": [
        {
          "output_type": "execute_result",
          "data": {
            "text/plain": [
              "x          10.310000\n",
              "y          64.970000\n",
              "y_pred     65.086515\n",
              "SSE         0.014187\n",
              "SSR       546.476204\n",
              "SST       548.382887\n",
              "dtype: float64"
            ]
          },
          "metadata": {},
          "execution_count": 44
        }
      ]
    },
    {
      "cell_type": "markdown",
      "metadata": {
        "id": "4xLVIJXmFQsI"
      },
      "source": [
        "# exponential"
      ]
    },
    {
      "cell_type": "code",
      "metadata": {
        "colab": {
          "base_uri": "https://localhost:8080/"
        },
        "id": "2ZXMP2cjEesg",
        "outputId": "c6aa03a7-6f0e-4607-90c0-94c32759fe3a"
      },
      "source": [
        "# Find A\n",
        "m = len(x)\n",
        "sum_lnyx = np.sum(x*np.log(y))\n",
        "sum_x_sum_lny = np.sum(x)*np.sum(np.log(y))\n",
        "sum_xx = np.sum(x**2)\n",
        "sum_x2 = np.sum(x)**2\n",
        "\n",
        "# Find ln B\n",
        "sum_x2lny = np.sum(x**2)*np.sum(np.log(y))\n",
        "sum_x_sum_lnyx = np.sum(x)*np.sum(np.log(y)*x)\n",
        "\n",
        "A = ((m*sum_lnyx)-sum_x_sum_lny)/((m*sum_xx)-sum_x2)\n",
        "B = ((sum_x2lny)-sum_x_sum_lnyx)/((m*sum_xx)-sum_x2)\n",
        "\n",
        "print(\"a = %0.3f, and b = %0.3f\" %(A, np.e**B))"
      ],
      "execution_count": null,
      "outputs": [
        {
          "output_type": "stream",
          "name": "stdout",
          "text": [
            "a = 2.314, and b = 0.129\n"
          ]
        }
      ]
    },
    {
      "cell_type": "code",
      "metadata": {
        "id": "AR6VpRY1GWV-"
      },
      "source": [
        "y_pred_expo = (np.e**B)*(np.e**(A*x))"
      ],
      "execution_count": null,
      "outputs": []
    },
    {
      "cell_type": "code",
      "metadata": {
        "colab": {
          "base_uri": "https://localhost:8080/",
          "height": 334
        },
        "id": "PVvJ1Qf1HUoJ",
        "outputId": "b8ecda8a-7430-4d37-a70d-9f60160f5512"
      },
      "source": [
        "fig = plt.figure(figsize=(5, 5))\n",
        "plt.scatter(x, y)\n",
        "plt.plot(x, y_pred_expo, c = \"red\")\n",
        "plt.xlabel(\"x\")\n",
        "plt.ylabel(\"y\")\n",
        "plt.show()"
      ],
      "execution_count": null,
      "outputs": [
        {
          "output_type": "display_data",
          "data": {
            "image/png": "[encoded data removed]",
            "text/plain": [
              "<Figure size 360x360 with 1 Axes>"
            ]
          },
          "metadata": {
            "needs_background": "light"
          }
        }
      ]
    },
    {
      "cell_type": "code",
      "metadata": {
        "colab": {
          "base_uri": "https://localhost:8080/",
          "height": 335
        },
        "id": "T4attsaDHZcH",
        "outputId": "47cc3864-98a5-433b-a654-94a2b935a220"
      },
      "source": [
        "df_expo = pd.DataFrame({\"x\":x, \n",
        "                        \"y\":y, \n",
        "                        \"y_pred\":y_pred_expo, \n",
        "                        \"SSE\": (y-y_pred_expo)**2,\n",
        "                        \"SSR\":(np.mean(y)-y_pred_expo)**2,\n",
        "                        \"SST\": (y-np.mean(y))**2})\n",
        "\n",
        "print(np.sum((np.mean(y)-y_pred_expo)**2), np.sum((y-np.mean(y))**2))\n",
        "print(\"R-square = %0.3f\"%(np.sum((np.mean(y)-y_pred_expo)**2)/np.sum((y-np.mean(y))**2)))\n",
        "df_expo"
      ],
      "execution_count": null,
      "outputs": [
        {
          "output_type": "stream",
          "name": "stdout",
          "text": [
            "3274.597953361865 548.3828874999999\n",
            "R-square = 5.971\n"
          ]
        },
        {
          "output_type": "execute_result",
          "data": {
            "text/html": [
              "<div>\n",
              "<style scoped>\n",
              "    .dataframe tbody tr th:only-of-type {\n",
              "        vertical-align: middle;\n",
              "    }\n",
              "\n",
              "    .dataframe tbody tr th {\n",
              "        vertical-align: top;\n",
              "    }\n",
              "\n",
              "    .dataframe thead th {\n",
              "        text-align: right;\n",
              "    }\n",
              "</style>\n",
              "<table border=\"1\" class=\"dataframe\">\n",
              "  <thead>\n",
              "    <tr style=\"text-align: right;\">\n",
              "      <th></th>\n",
              "      <th>x</th>\n",
              "      <th>y</th>\n",
              "      <th>y_pred</th>\n",
              "      <th>SSE</th>\n",
              "      <th>SSR</th>\n",
              "      <th>SST</th>\n",
              "    </tr>\n",
              "  </thead>\n",
              "  <tbody>\n",
              "    <tr>\n",
              "      <th>0</th>\n",
              "      <td>0.20</td>\n",
              "      <td>0.02</td>\n",
              "      <td>0.204490</td>\n",
              "      <td>0.034037</td>\n",
              "      <td>62.675088</td>\n",
              "      <td>65.630252</td>\n",
              "    </tr>\n",
              "    <tr>\n",
              "      <th>1</th>\n",
              "      <td>0.37</td>\n",
              "      <td>0.48</td>\n",
              "      <td>0.303033</td>\n",
              "      <td>0.031317</td>\n",
              "      <td>61.124517</td>\n",
              "      <td>58.388702</td>\n",
              "    </tr>\n",
              "    <tr>\n",
              "      <th>2</th>\n",
              "      <td>0.72</td>\n",
              "      <td>1.80</td>\n",
              "      <td>0.681041</td>\n",
              "      <td>1.252068</td>\n",
              "      <td>55.356704</td>\n",
              "      <td>39.958202</td>\n",
              "    </tr>\n",
              "    <tr>\n",
              "      <th>3</th>\n",
              "      <td>0.97</td>\n",
              "      <td>3.26</td>\n",
              "      <td>1.214440</td>\n",
              "      <td>4.184315</td>\n",
              "      <td>47.704023</td>\n",
              "      <td>23.631752</td>\n",
              "    </tr>\n",
              "    <tr>\n",
              "      <th>4</th>\n",
              "      <td>1.34</td>\n",
              "      <td>6.23</td>\n",
              "      <td>2.858617</td>\n",
              "      <td>11.366226</td>\n",
              "      <td>27.695310</td>\n",
              "      <td>3.576827</td>\n",
              "    </tr>\n",
              "    <tr>\n",
              "      <th>5</th>\n",
              "      <td>1.89</td>\n",
              "      <td>12.40</td>\n",
              "      <td>10.204732</td>\n",
              "      <td>4.819202</td>\n",
              "      <td>4.340897</td>\n",
              "      <td>18.307702</td>\n",
              "    </tr>\n",
              "    <tr>\n",
              "      <th>6</th>\n",
              "      <td>2.15</td>\n",
              "      <td>16.04</td>\n",
              "      <td>18.623113</td>\n",
              "      <td>6.672474</td>\n",
              "      <td>110.289132</td>\n",
              "      <td>62.706602</td>\n",
              "    </tr>\n",
              "    <tr>\n",
              "      <th>7</th>\n",
              "      <td>2.67</td>\n",
              "      <td>24.74</td>\n",
              "      <td>62.023126</td>\n",
              "      <td>1390.031516</td>\n",
              "      <td>2905.412282</td>\n",
              "      <td>276.182852</td>\n",
              "    </tr>\n",
              "  </tbody>\n",
              "</table>\n",
              "</div>"
            ],
            "text/plain": [
              "      x      y     y_pred          SSE          SSR         SST\n",
              "0  0.20   0.02   0.204490     0.034037    62.675088   65.630252\n",
              "1  0.37   0.48   0.303033     0.031317    61.124517   58.388702\n",
              "2  0.72   1.80   0.681041     1.252068    55.356704   39.958202\n",
              "3  0.97   3.26   1.214440     4.184315    47.704023   23.631752\n",
              "4  1.34   6.23   2.858617    11.366226    27.695310    3.576827\n",
              "5  1.89  12.40  10.204732     4.819202     4.340897   18.307702\n",
              "6  2.15  16.04  18.623113     6.672474   110.289132   62.706602\n",
              "7  2.67  24.74  62.023126  1390.031516  2905.412282  276.182852"
            ]
          },
          "metadata": {},
          "execution_count": 67
        }
      ]
    },
    {
      "cell_type": "code",
      "metadata": {
        "colab": {
          "base_uri": "https://localhost:8080/"
        },
        "id": "gltNwhGkIgqU",
        "outputId": "2b1a6796-90b9-4d9f-8358-bedb79202240"
      },
      "source": [
        "np.sum(df_expo, axis=0)"
      ],
      "execution_count": null,
      "outputs": [
        {
          "output_type": "execute_result",
          "data": {
            "text/plain": [
              "x           10.310000\n",
              "y           64.970000\n",
              "y_pred      96.112593\n",
              "SSE       1418.391155\n",
              "SSR       3274.597953\n",
              "SST        548.382887\n",
              "dtype: float64"
            ]
          },
          "metadata": {},
          "execution_count": 68
        }
      ]
    },
    {
      "cell_type": "markdown",
      "metadata": {
        "id": "UiFn1BCEOb_q"
      },
      "source": [
        "# Polyfit"
      ]
    },
    {
      "cell_type": "code",
      "metadata": {
        "colab": {
          "base_uri": "https://localhost:8080/"
        },
        "id": "kxDGXXRjI14o",
        "outputId": "fd6f5d5e-1c3a-4a88-c8d8-11c3940601df"
      },
      "source": [
        "poly_model2 = np.poly1d(np.polyfit(x, y, 2))\n",
        "print(np.polyfit(x, y, 2))\n",
        "poly_model3 = np.poly1d(np.polyfit(x, y, 3))\n",
        "print(np.polyfit(x, y, 3))\n",
        "poly_model4 = np.poly1d(np.polyfit(x, y, 4))\n",
        "print(np.polyfit(x, y, 4))"
      ],
      "execution_count": null,
      "outputs": [
        {
          "output_type": "stream",
          "name": "stdout",
          "text": [
            "[ 3.43729411  0.11571548 -0.08631359]\n",
            "[ 0.04112172  3.26124469  0.31907967 -0.13857406]\n",
            "[-0.08236466  0.51544934  2.372496    0.91472228 -0.24321363]\n"
          ]
        }
      ]
    },
    {
      "cell_type": "code",
      "metadata": {
        "id": "JOReTdp5OhPk"
      },
      "source": [
        "y_pred_poly2 = poly_model2(x)\n",
        "y_pred_poly3 = poly_model3(x)\n",
        "y_pred_poly4 = poly_model4(x)"
      ],
      "execution_count": null,
      "outputs": []
    },
    {
      "cell_type": "code",
      "metadata": {
        "colab": {
          "base_uri": "https://localhost:8080/",
          "height": 350
        },
        "id": "SU5PvI__Oinm",
        "outputId": "a7cff0e3-c44c-4eeb-dda1-26893327b3aa"
      },
      "source": [
        "fig = plt.figure(figsize=(5, 5))\n",
        "plt.scatter(x, y)\n",
        "plt.plot(x, y_pred_poly4, c = \"blue\")\n",
        "plt.xlabel(\"x\")\n",
        "plt.ylabel(\"y\")\n",
        "plt.title(\"Order 4\") \n",
        "plt.show()"
      ],
      "execution_count": null,
      "outputs": [
        {
          "output_type": "display_data",
          "data": {
            "image/png": "[encoded data removed]",
            "text/plain": [
              "<Figure size 360x360 with 1 Axes>"
            ]
          },
          "metadata": {
            "needs_background": "light"
          }
        }
      ]
    },
    {
      "cell_type": "code",
      "metadata": {
        "colab": {
          "base_uri": "https://localhost:8080/",
          "height": 335
        },
        "id": "ieKTQrCPO98O",
        "outputId": "98729e93-8765-4502-d144-339c95cbcc42"
      },
      "source": [
        "df_poly = pd.DataFrame({\"x\":x, \n",
        "                        \"y\":y, \n",
        "                        \"y_pred\":y_pred_poly2, \n",
        "                        \"SSE\": (y-y_pred_poly2)**2,\n",
        "                        \"SSR\":(np.mean(y)-y_pred_poly)**2,\n",
        "                        \"SST\": (y-np.mean(y))**2})\n",
        "\n",
        "print(np.sum((np.mean(y)-y_pred_poly2)**2), np.sum((y-np.mean(y))**2))\n",
        "print(\"R-square = %0.3f\"%(np.sum((np.mean(y)-y_pred_poly2)**2)/np.sum((y-np.mean(y))**2)))\n",
        "df_poly"
      ],
      "execution_count": null,
      "outputs": [
        {
          "output_type": "stream",
          "name": "stdout",
          "text": [
            "548.3761540979458 548.3828874999999\n",
            "R-square = 1.000\n"
          ]
        },
        {
          "output_type": "execute_result",
          "data": {
            "text/html": [
              "<div>\n",
              "<style scoped>\n",
              "    .dataframe tbody tr th:only-of-type {\n",
              "        vertical-align: middle;\n",
              "    }\n",
              "\n",
              "    .dataframe tbody tr th {\n",
              "        vertical-align: top;\n",
              "    }\n",
              "\n",
              "    .dataframe thead th {\n",
              "        text-align: right;\n",
              "    }\n",
              "</style>\n",
              "<table border=\"1\" class=\"dataframe\">\n",
              "  <thead>\n",
              "    <tr style=\"text-align: right;\">\n",
              "      <th></th>\n",
              "      <th>x</th>\n",
              "      <th>y</th>\n",
              "      <th>y_pred</th>\n",
              "      <th>SSE</th>\n",
              "      <th>SSR</th>\n",
              "      <th>SST</th>\n",
              "    </tr>\n",
              "  </thead>\n",
              "  <tbody>\n",
              "    <tr>\n",
              "      <th>0</th>\n",
              "      <td>0.20</td>\n",
              "      <td>0.02</td>\n",
              "      <td>0.074321</td>\n",
              "      <td>2.950801e-03</td>\n",
              "      <td>65.047925</td>\n",
              "      <td>65.630252</td>\n",
              "    </tr>\n",
              "    <tr>\n",
              "      <th>1</th>\n",
              "      <td>0.37</td>\n",
              "      <td>0.48</td>\n",
              "      <td>0.427067</td>\n",
              "      <td>2.801934e-03</td>\n",
              "      <td>59.185592</td>\n",
              "      <td>58.388702</td>\n",
              "    </tr>\n",
              "    <tr>\n",
              "      <th>2</th>\n",
              "      <td>0.72</td>\n",
              "      <td>1.80</td>\n",
              "      <td>1.778895</td>\n",
              "      <td>4.454286e-04</td>\n",
              "      <td>39.994353</td>\n",
              "      <td>39.958202</td>\n",
              "    </tr>\n",
              "    <tr>\n",
              "      <th>3</th>\n",
              "      <td>0.97</td>\n",
              "      <td>3.26</td>\n",
              "      <td>3.260080</td>\n",
              "      <td>6.471992e-09</td>\n",
              "      <td>23.467058</td>\n",
              "      <td>23.631752</td>\n",
              "    </tr>\n",
              "    <tr>\n",
              "      <th>4</th>\n",
              "      <td>1.34</td>\n",
              "      <td>6.23</td>\n",
              "      <td>6.240750</td>\n",
              "      <td>1.155721e-04</td>\n",
              "      <td>3.524718</td>\n",
              "      <td>3.576827</td>\n",
              "    </tr>\n",
              "    <tr>\n",
              "      <th>5</th>\n",
              "      <td>1.89</td>\n",
              "      <td>12.40</td>\n",
              "      <td>12.410747</td>\n",
              "      <td>1.154967e-04</td>\n",
              "      <td>18.235910</td>\n",
              "      <td>18.307702</td>\n",
              "    </tr>\n",
              "    <tr>\n",
              "      <th>6</th>\n",
              "      <td>2.15</td>\n",
              "      <td>16.04</td>\n",
              "      <td>16.051367</td>\n",
              "      <td>1.292016e-04</td>\n",
              "      <td>62.567844</td>\n",
              "      <td>62.706602</td>\n",
              "    </tr>\n",
              "    <tr>\n",
              "      <th>7</th>\n",
              "      <td>2.67</td>\n",
              "      <td>24.74</td>\n",
              "      <td>24.726773</td>\n",
              "      <td>1.749619e-04</td>\n",
              "      <td>276.354828</td>\n",
              "      <td>276.182852</td>\n",
              "    </tr>\n",
              "  </tbody>\n",
              "</table>\n",
              "</div>"
            ],
            "text/plain": [
              "      x      y     y_pred           SSE         SSR         SST\n",
              "0  0.20   0.02   0.074321  2.950801e-03   65.047925   65.630252\n",
              "1  0.37   0.48   0.427067  2.801934e-03   59.185592   58.388702\n",
              "2  0.72   1.80   1.778895  4.454286e-04   39.994353   39.958202\n",
              "3  0.97   3.26   3.260080  6.471992e-09   23.467058   23.631752\n",
              "4  1.34   6.23   6.240750  1.155721e-04    3.524718    3.576827\n",
              "5  1.89  12.40  12.410747  1.154967e-04   18.235910   18.307702\n",
              "6  2.15  16.04  16.051367  1.292016e-04   62.567844   62.706602\n",
              "7  2.67  24.74  24.726773  1.749619e-04  276.354828  276.182852"
            ]
          },
          "metadata": {},
          "execution_count": 89
        }
      ]
    },
    {
      "cell_type": "code",
      "metadata": {
        "colab": {
          "base_uri": "https://localhost:8080/"
        },
        "id": "2u63tdE6PRyp",
        "outputId": "2009829d-f1cc-4ab3-d51e-c1d4abca8844"
      },
      "source": [
        "np.sum(df_poly, axis=0)"
      ],
      "execution_count": null,
      "outputs": [
        {
          "output_type": "execute_result",
          "data": {
            "text/plain": [
              "x          10.310000\n",
              "y          64.970000\n",
              "y_pred     64.970000\n",
              "SSE         0.006733\n",
              "SSR       548.378228\n",
              "SST       548.382887\n",
              "dtype: float64"
            ]
          },
          "metadata": {},
          "execution_count": 95
        }
      ]
    },
    {
      "cell_type": "markdown",
      "metadata": {
        "id": "PSFdv_-1TL_W"
      },
      "source": [
        "# Summary"
      ]
    },
    {
      "cell_type": "code",
      "metadata": {
        "colab": {
          "base_uri": "https://localhost:8080/",
          "height": 350
        },
        "id": "c-JVUnnESo3r",
        "outputId": "ef4836ac-a5e5-4d14-b69e-0e767587a95e"
      },
      "source": [
        "fig = plt.figure(figsize=(7, 5))\n",
        "plt.scatter(x, y)\n",
        "plt.plot(x, y_pred, c = \"black\", label = \"linear model (R2 = 0.945)\")\n",
        "plt.plot(x, y_pred_power2_x2, c = \"green\", label = \"power curve (R2 = 0.997)\")\n",
        "plt.plot(x, y_pred_expo, c = \"lightblue\", label = \"exponential curve (R2 = 5.971)\")\n",
        "plt.plot(x, y_pred_poly2, c = \"red\", label = \"polynomial model (R2 = 1.000)\")\n",
        "plt.xlabel(\"x\")\n",
        "plt.ylabel(\"y\")\n",
        "plt.legend()\n",
        "plt.title(\"Models comparison\") \n",
        "plt.show()"
      ],
      "execution_count": null,
      "outputs": [
        {
          "output_type": "display_data",
          "data": {
            "image/png": "[encoded data removed]",
            "text/plain": [
              "<Figure size 504x360 with 1 Axes>"
            ]
          },
          "metadata": {
            "needs_background": "light"
          }
        }
      ]
    },
    {
      "cell_type": "code",
      "metadata": {
        "id": "zG5Kc4lvTt6D"
      },
      "source": [
        ""
      ],
      "execution_count": null,
      "outputs": []
    }
  ]
}